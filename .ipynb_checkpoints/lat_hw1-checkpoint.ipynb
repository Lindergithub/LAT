{
 "cells": [
  {
   "cell_type": "markdown",
   "id": "7a96f466",
   "metadata": {},
   "source": [
    "# 111-2 LAT HW1 : Students Adaptability Level in Online Education"
   ]
  },
  {
   "cell_type": "code",
   "execution_count": 289,
   "id": "6a062a4c",
   "metadata": {
    "scrolled": true
   },
   "outputs": [],
   "source": [
    "import pandas as pd\n",
    "oedf = pd.read_csv('OE.csv')\n",
    "import matplotlib.pyplot as plt\n"
   ]
  },
  {
   "cell_type": "code",
   "execution_count": 290,
   "id": "b726fc53",
   "metadata": {},
   "outputs": [
    {
     "data": {
      "text/html": [
       "<div>\n",
       "<style scoped>\n",
       "    .dataframe tbody tr th:only-of-type {\n",
       "        vertical-align: middle;\n",
       "    }\n",
       "\n",
       "    .dataframe tbody tr th {\n",
       "        vertical-align: top;\n",
       "    }\n",
       "\n",
       "    .dataframe thead th {\n",
       "        text-align: right;\n",
       "    }\n",
       "</style>\n",
       "<table border=\"1\" class=\"dataframe\">\n",
       "  <thead>\n",
       "    <tr style=\"text-align: right;\">\n",
       "      <th></th>\n",
       "      <th>count</th>\n",
       "      <th>unique</th>\n",
       "      <th>allvalue</th>\n",
       "      <th>top</th>\n",
       "      <th>freq</th>\n",
       "    </tr>\n",
       "  </thead>\n",
       "  <tbody>\n",
       "    <tr>\n",
       "      <th>gender</th>\n",
       "      <td>1205</td>\n",
       "      <td>2</td>\n",
       "      <td>boy, girl</td>\n",
       "      <td>boy</td>\n",
       "      <td>663</td>\n",
       "    </tr>\n",
       "    <tr>\n",
       "      <th>age</th>\n",
       "      <td>1205</td>\n",
       "      <td>6</td>\n",
       "      <td>21-25, 16-20, 11-15, 26-30, 6-10, 1-5</td>\n",
       "      <td>21-25</td>\n",
       "      <td>374</td>\n",
       "    </tr>\n",
       "    <tr>\n",
       "      <th>education level</th>\n",
       "      <td>1205</td>\n",
       "      <td>2</td>\n",
       "      <td>university, below university</td>\n",
       "      <td>university</td>\n",
       "      <td>675</td>\n",
       "    </tr>\n",
       "    <tr>\n",
       "      <th>institution type</th>\n",
       "      <td>1205</td>\n",
       "      <td>2</td>\n",
       "      <td>non government, government</td>\n",
       "      <td>non government</td>\n",
       "      <td>823</td>\n",
       "    </tr>\n",
       "    <tr>\n",
       "      <th>IT student</th>\n",
       "      <td>1205</td>\n",
       "      <td>2</td>\n",
       "      <td>no, yes</td>\n",
       "      <td>no</td>\n",
       "      <td>901</td>\n",
       "    </tr>\n",
       "    <tr>\n",
       "      <th>live in town</th>\n",
       "      <td>1205</td>\n",
       "      <td>2</td>\n",
       "      <td>yes, no</td>\n",
       "      <td>yes</td>\n",
       "      <td>935</td>\n",
       "    </tr>\n",
       "    <tr>\n",
       "      <th>load-shedding</th>\n",
       "      <td>1205</td>\n",
       "      <td>2</td>\n",
       "      <td>low, high</td>\n",
       "      <td>low</td>\n",
       "      <td>1004</td>\n",
       "    </tr>\n",
       "    <tr>\n",
       "      <th>financial condition</th>\n",
       "      <td>1205</td>\n",
       "      <td>3</td>\n",
       "      <td>mid, poor, rich</td>\n",
       "      <td>mid</td>\n",
       "      <td>878</td>\n",
       "    </tr>\n",
       "    <tr>\n",
       "      <th>internet type</th>\n",
       "      <td>1205</td>\n",
       "      <td>2</td>\n",
       "      <td>wifi, mobile data</td>\n",
       "      <td>mobile data</td>\n",
       "      <td>695</td>\n",
       "    </tr>\n",
       "    <tr>\n",
       "      <th>network type</th>\n",
       "      <td>1205</td>\n",
       "      <td>3</td>\n",
       "      <td>4g, 3g, 2g</td>\n",
       "      <td>4g</td>\n",
       "      <td>775</td>\n",
       "    </tr>\n",
       "    <tr>\n",
       "      <th>class duration</th>\n",
       "      <td>1205</td>\n",
       "      <td>3</td>\n",
       "      <td>3-6, 1-3, 0</td>\n",
       "      <td>1-3</td>\n",
       "      <td>840</td>\n",
       "    </tr>\n",
       "    <tr>\n",
       "      <th>self lms</th>\n",
       "      <td>1205</td>\n",
       "      <td>2</td>\n",
       "      <td>no, yes</td>\n",
       "      <td>no</td>\n",
       "      <td>995</td>\n",
       "    </tr>\n",
       "    <tr>\n",
       "      <th>device</th>\n",
       "      <td>1205</td>\n",
       "      <td>3</td>\n",
       "      <td>tab, mobile, computer</td>\n",
       "      <td>mobile</td>\n",
       "      <td>1013</td>\n",
       "    </tr>\n",
       "    <tr>\n",
       "      <th>adaptivity level</th>\n",
       "      <td>1205</td>\n",
       "      <td>3</td>\n",
       "      <td>moderate, low, high</td>\n",
       "      <td>moderate</td>\n",
       "      <td>625</td>\n",
       "    </tr>\n",
       "  </tbody>\n",
       "</table>\n",
       "</div>"
      ],
      "text/plain": [
       "                    count unique                               allvalue  \\\n",
       "gender               1205      2                              boy, girl   \n",
       "age                  1205      6  21-25, 16-20, 11-15, 26-30, 6-10, 1-5   \n",
       "education level      1205      2           university, below university   \n",
       "institution type     1205      2             non government, government   \n",
       "IT student           1205      2                                no, yes   \n",
       "live in town         1205      2                                yes, no   \n",
       "load-shedding        1205      2                              low, high   \n",
       "financial condition  1205      3                        mid, poor, rich   \n",
       "internet type        1205      2                      wifi, mobile data   \n",
       "network type         1205      3                             4g, 3g, 2g   \n",
       "class duration       1205      3                            3-6, 1-3, 0   \n",
       "self lms             1205      2                                no, yes   \n",
       "device               1205      3                  tab, mobile, computer   \n",
       "adaptivity level     1205      3                    moderate, low, high   \n",
       "\n",
       "                                top  freq  \n",
       "gender                          boy   663  \n",
       "age                           21-25   374  \n",
       "education level          university   675  \n",
       "institution type     non government   823  \n",
       "IT student                       no   901  \n",
       "live in town                    yes   935  \n",
       "load-shedding                   low  1004  \n",
       "financial condition             mid   878  \n",
       "internet type           mobile data   695  \n",
       "network type                     4g   775  \n",
       "class duration                  1-3   840  \n",
       "self lms                         no   995  \n",
       "device                       mobile  1013  \n",
       "adaptivity level           moderate   625  "
      ]
     },
     "execution_count": 290,
     "metadata": {},
     "output_type": "execute_result"
    }
   ],
   "source": [
    "oedf.columns = oedf.columns.str.lower()\n",
    "oedf = oedf.applymap(lambda x: x.lower() if type(x) == str else x)\n",
    "oedf = oedf.rename(columns={\"it student\": \"IT student\"})\n",
    "oedf = oedf.rename(columns={\"location\": \"live in town\"})\n",
    "oedf['education level'] = oedf['education level'].replace('college', 'university')\n",
    "oedf['education level'] = oedf['education level'].replace(['school'],['below university']) \n",
    "\n",
    "######data overview\n",
    "ov=oedf.describe().T\n",
    "ov['allvalue']='s'\n",
    "for i in oedf.columns:\n",
    "    allvalue_list=oedf[i].unique().tolist()\n",
    "    allvalue_strl= ', '.join(['{}'] * len(allvalue_list)).format(*allvalue_list)\n",
    "    ov.loc[i,'allvalue']=allvalue_strl\n",
    "new_order = ['count', 'unique', 'allvalue', 'top', 'freq']\n",
    "ov = ov.reindex(columns=new_order)\n",
    "ov"
   ]
  },
  {
   "cell_type": "markdown",
   "id": "cf5ae09c",
   "metadata": {},
   "source": [
    "## Univariate Analysis"
   ]
  },
  {
   "cell_type": "markdown",
   "id": "c1332217",
   "metadata": {},
   "source": [
    "## 問題\n",
    "1.資料集中，男女比例為何？\n",
    "\n",
    "2.資料集中，年齡分佈為何？\n",
    "\n",
    "3.資料集中，課時分佈為何？\n",
    "\n",
    "4.資料集中，教育程度分佈為何？\n",
    "\n",
    "5.資料集中，適應程度分佈為何？\n",
    "\n",
    "6.資料集中，公私立比例為何？\n",
    "\n",
    "7.資料集中，男女是IT student 的比例相對高？\n",
    "\n",
    "8.資料集中，男女的adaptability level相對高？"
   ]
  },
  {
   "cell_type": "markdown",
   "id": "7fe94adb",
   "metadata": {},
   "source": [
    "## 1.資料集中，男女比例為何？"
   ]
  },
  {
   "cell_type": "code",
   "execution_count": 291,
   "id": "bb06508b",
   "metadata": {},
   "outputs": [
    {
     "data": {
      "image/png": "[encoded data removed]",
      "text/plain": [
       "<Figure size 432x288 with 1 Axes>"
      ]
     },
     "metadata": {},
     "output_type": "display_data"
    }
   ],
   "source": [
    "counts = oedf['gender'].value_counts()\n",
    "plt.pie(counts, labels=counts.index, autopct='%1.1f%%')\n",
    "plt.title('Gender')\n",
    "plt.show()"
   ]
  },
  {
   "cell_type": "markdown",
   "id": "21bdacce",
   "metadata": {},
   "source": [
    "## 2.資料集中，年齡分佈為何？"
   ]
  },
  {
   "cell_type": "code",
   "execution_count": 292,
   "id": "fca28255",
   "metadata": {},
   "outputs": [
    {
     "data": {
      "image/png": "[encoded data removed]",
      "text/plain": [
       "<Figure size 432x288 with 1 Axes>"
      ]
     },
     "metadata": {},
     "output_type": "display_data"
    }
   ],
   "source": [
    "counts = oedf['age'].value_counts()\n",
    "plt.pie(counts, labels=counts.index, autopct='%1.1f%%')\n",
    "plt.title('Age')\n",
    "plt.show()"
   ]
  },
  {
   "cell_type": "markdown",
   "id": "5349ae2d",
   "metadata": {},
   "source": [
    "## 3.資料集中，課時分佈為何？"
   ]
  },
  {
   "cell_type": "code",
   "execution_count": 293,
   "id": "a1ca4ec1",
   "metadata": {},
   "outputs": [
    {
     "data": {
      "image/png": "[encoded data removed]",
      "text/plain": [
       "<Figure size 432x288 with 1 Axes>"
      ]
     },
     "metadata": {},
     "output_type": "display_data"
    }
   ],
   "source": [
    "counts = oedf['class duration'].value_counts()\n",
    "plt.pie(counts, labels=counts.index, autopct='%1.1f%%')\n",
    "plt.title('Class Duration')\n",
    "plt.show()"
   ]
  },
  {
   "cell_type": "markdown",
   "id": "08bf953f",
   "metadata": {},
   "source": [
    "## 4.資料集中，教育程度分佈為何？"
   ]
  },
  {
   "cell_type": "code",
   "execution_count": 294,
   "id": "b5be36a2",
   "metadata": {},
   "outputs": [
    {
     "data": {
      "image/png": "[encoded data removed]",
      "text/plain": [
       "<Figure size 432x288 with 1 Axes>"
      ]
     },
     "metadata": {},
     "output_type": "display_data"
    }
   ],
   "source": [
    "counts = oedf['education level'].value_counts()\n",
    "plt.pie(counts, labels=counts.index, autopct='%1.1f%%')\n",
    "plt.title('Education Level')\n",
    "plt.show()"
   ]
  },
  {
   "cell_type": "markdown",
   "id": "c99a08cf",
   "metadata": {},
   "source": [
    "## 5.資料集中，適應程度分佈為何？"
   ]
  },
  {
   "cell_type": "code",
   "execution_count": 295,
   "id": "91ec7785",
   "metadata": {},
   "outputs": [
    {
     "data": {
      "image/png": "[encoded data removed]",
      "text/plain": [
       "<Figure size 432x288 with 1 Axes>"
      ]
     },
     "metadata": {},
     "output_type": "display_data"
    }
   ],
   "source": [
    "counts = oedf['adaptivity level'].value_counts()\n",
    "plt.pie(counts, labels=counts.index, autopct='%1.1f%%')\n",
    "plt.title('Adaptability Level')\n",
    "plt.show()"
   ]
  },
  {
   "cell_type": "markdown",
   "id": "74c5ce08",
   "metadata": {},
   "source": [
    "## 6.資料集中，公私立比例為何？"
   ]
  },
  {
   "cell_type": "code",
   "execution_count": 296,
   "id": "005b6818",
   "metadata": {},
   "outputs": [
    {
     "data": {
      "image/png": "[encoded data removed]",
      "text/plain": [
       "<Figure size 432x288 with 1 Axes>"
      ]
     },
     "metadata": {},
     "output_type": "display_data"
    }
   ],
   "source": [
    "counts = oedf['institution type'].value_counts()\n",
    "plt.pie(counts, labels=counts.index, autopct='%1.1f%%')\n",
    "plt.title('Institution Type')\n",
    "plt.show()"
   ]
  },
  {
   "cell_type": "code",
   "execution_count": null,
   "id": "5504d2c2",
   "metadata": {},
   "outputs": [],
   "source": []
  },
  {
   "cell_type": "markdown",
   "id": "6ca04013",
   "metadata": {},
   "source": [
    "oedf['adaptivity level'] = oedf['adaptivity level'].replace(['low','moderate','high'],[0,1,2])\n",
    "oedf['education level'] = oedf['education level'].replace(['school', 'university'],[0,1])\n",
    "oedf['self lms'] = oedf['self lms'].replace(['no', 'yes'],[0,1])\n",
    "oedf['live in town'] = oedf['live in town'].replace(['no', 'yes'],[0,1])\n",
    "oedf['financial condition'] = oedf['financial condition'].replace(['poor', 'mid','rich'],[0,1,2])\n",
    "\n",
    "oedf.groupby('IT student').sum()"
   ]
  },
  {
   "cell_type": "markdown",
   "id": "73d86a80",
   "metadata": {},
   "source": [
    "## 發現chatgpt會害死我，因為我copy 一個可行的程式碼，希望能幫助我減少男女失衡的影響，可行是可行，但結果的比例還是一樣差很大。\n",
    "以Kaggle上\"Students Adaptability Level in Online Education\"資料集為例，其男女比例為55:45，在進行IT student 與gender間的分析，要如何減少男女比例不平衡帶來的影響？用python解決\n",
    "可以進行分層抽樣 (stratified sampling)，將樣本分層後在每個層次內進行隨機抽樣，使得樣本更能代表整體族群，進而減少比例不平衡所帶來的影響。\n",
    "\n",
    "以下是一個示範：\n",
    "\n",
    "首先，我們可以使用 pandas 的 crosstab 函數來計算 IT student 與 gender 的交叉表，以瞭解男女比例不平衡的情況。\n",
    "\n",
    "python\n",
    "Copy code\n",
    "import pandas as pd\n",
    "\n",
    "\n",
    "\n",
    "### 讀取資料集\n",
    "df = pd.read_csv('StudentsAdaptability.csv')\n",
    "\n",
    "### 計算 IT student 與 gender 的交叉表\n",
    "crosstab = pd.crosstab(df['IT Student'], df['Gender'])\n",
    "print(crosstab)\n",
    "執行結果：\n",
    "\n",
    "Gender      Boy  Girl\n",
    "IT Student          \n",
    "No          352   296\n",
    "Yes         199   190\n",
    "可以看出男女比例確實不平衡。\n",
    "\n",
    "接著，我們可以使用 StratifiedShuffleSplit 類別進行分層抽樣。以下是示範程式碼：\n",
    "\n",
    "\n",
    "from sklearn.model_selection import StratifiedShuffleSplit\n",
    "\n",
    "### 將資料分成訓練集和測試集，並進行分層抽樣\n",
    "split = StratifiedShuffleSplit(n_splits=1, test_size=0.2, random_state=42)\n",
    "for train_index, test_index in split.split(df, df['Gender']):\n",
    "    train_set = df.loc[train_index]\n",
    "    test_set = df.loc[test_index]\n",
    "上述程式碼中，我們使用 StratifiedShuffleSplit 類別將資料分成訓練集和測試集，並將 Gender 作為分層依據。這樣可以確保在訓練集和測試集中男女比例的比例相同。\n",
    "\n",
    "最後，我們可以再次計算 IT student 與 gender 的交叉表，以確認分層抽樣的效果。\n",
    "\n",
    "\n",
    "### 計算分層抽樣後的 IT student 與 gender 的交叉表\n",
    "train_crosstab = pd.crosstab(train_set['IT Student'], train_set['Gender'])\n",
    "test_crosstab = pd.crosstab(test_set['IT Student'], test_set['Gender'])\n",
    "\n",
    "print('Training set:')\n",
    "print(train_crosstab)\n",
    "print('Testing set:')\n",
    "print(test_crosstab)\n",
    "執行結果：\n",
    "\n",
    "\n",
    "Training set:\n",
    "Gender      Boy  Girl\n",
    "IT Student          \n",
    "No          281   237\n",
    "Yes         159   152\n",
    "\n",
    "Testing set:\n",
    "Gender      Boy  Girl\n",
    "IT Student          \n",
    "No           71    59\n",
    "Yes          40    38\n",
    "\n",
    "## 用資料實際試試\n",
    "\n",
    "import pandas as pd\n",
    "import seaborn as sns\n",
    "\n",
    "\n",
    "# 创建交叉表\n",
    "cross_tab = pd.crosstab(oedf['IT student'], oedf['gender'])\n",
    "\n",
    "# 显示交叉表\n",
    "print(cross_tab)\n",
    "\n",
    "# 使用热力图可视化交叉表\n",
    "sns.heatmap(test_crosstab, cmap='Blues', annot=True, fmt='d')\n",
    "from sklearn.model_selection import StratifiedShuffleSplit\n",
    "\n",
    "# 將資料分成訓練集和測試集，並進行分層抽樣\n",
    "split = StratifiedShuffleSplit(n_splits=1, test_size=0.5, random_state=42)\n",
    "for train_index, test_index in split.split(oedf, oedf['gender']):\n",
    "    train_set = oedf.loc[train_index]\n",
    "    test_set = oedf.loc[test_index]\n",
    "    train_crosstab = pd.crosstab(train_set['IT student'], train_set['gender'])\n",
    "test_crosstab = pd.crosstab(test_set['IT student'], test_set['gender'])\n",
    "\n",
    "print('Training set:')\n",
    "print(train_crosstab)\n",
    "print('Testing set:')\n",
    "print(test_crosstab)"
   ]
  },
  {
   "cell_type": "markdown",
   "id": "b9381b22",
   "metadata": {},
   "source": [
    "import matplotlib.pyplot as plt\n",
    "\n",
    "counts = oedf['adaptivity level'].value_counts()\n",
    "plt.pie(counts, labels=counts.index, autopct='%1.1f%%')\n",
    "plt.title('Adaptability Level')\n",
    "plt.show()\n",
    "counts = oedf['education level'].value_counts()\n",
    "plt.pie(counts, labels=counts.index, autopct='%1.1f%%')\n",
    "plt.title('Education Level')\n",
    "plt.show()\n",
    "counts = oedf['gender'].value_counts()\n",
    "plt.pie(counts, labels=counts.index, autopct='%1.1f%%')\n",
    "plt.title('Gender')\n",
    "plt.show()\n",
    "counts = oedf['age'].value_counts()\n",
    "plt.pie(counts, labels=counts.index, autopct='%1.1f%%')\n",
    "plt.title('Age')\n",
    "plt.show()\n",
    "counts = oedf['institution type'].value_counts()\n",
    "plt.pie(counts, labels=counts.index, autopct='%1.1f%%')\n",
    "plt.title('Institution Type')\n",
    "plt.show()\n",
    "counts = oedf['class duration'].value_counts()\n",
    "plt.pie(counts, labels=counts.index, autopct='%1.1f%%')\n",
    "plt.title('Class Duration')\n",
    "plt.show()"
   ]
  }
 ],
 "metadata": {
  "kernelspec": {
   "display_name": "Python 3 (ipykernel)",
   "language": "python",
   "name": "python3"
  },
  "language_info": {
   "codemirror_mode": {
    "name": "ipython",
    "version": 3
   },
   "file_extension": ".py",
   "mimetype": "text/x-python",
   "name": "python",
   "nbconvert_exporter": "python",
   "pygments_lexer": "ipython3",
   "version": "3.9.12"
  }
 },
 "nbformat": 4,
 "nbformat_minor": 5
}
