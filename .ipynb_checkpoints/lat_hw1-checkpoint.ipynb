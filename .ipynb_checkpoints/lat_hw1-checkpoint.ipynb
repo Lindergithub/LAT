{
 "cells": [
  {
   "cell_type": "markdown",
   "id": "7a96f466",
   "metadata": {},
   "source": [
    "# 111-2 LAT HW1 : Students Adaptability Level in Online Education"
   ]
  },
  {
   "cell_type": "code",
   "execution_count": 93,
   "id": "6a062a4c",
   "metadata": {
    "scrolled": true
   },
   "outputs": [],
   "source": [
    "import pandas as pd\n",
    "oedf = pd.read_csv('OE.csv')"
   ]
  },
  {
   "cell_type": "code",
   "execution_count": 124,
   "id": "3e20c2d8",
   "metadata": {},
   "outputs": [
    {
     "name": "stdout",
     "output_type": "stream",
     "text": [
      "gender : ['boy', 'girl']\n",
      "age : ['21-25', '16-20', '11-15', '26-30', '6-10', '1-5']\n",
      "education level : ['university', 'school']\n",
      "institution type : ['non government', 'government']\n",
      "It student : ['no', 'yes']\n",
      "location : ['yes', 'no']\n",
      "load-shedding : ['low', 'high']\n",
      "financial condition : ['mid', 'poor', 'rich']\n",
      "internet type : ['wifi', 'mobile data']\n",
      "network type : ['4g', '3g', '2g']\n",
      "class duration : ['3-6', '1-3', '0']\n",
      "self lms : ['no', 'yes']\n",
      "device : ['tab', 'mobile', 'computer']\n",
      "adaptivity level : ['moderate', 'low', 'high']\n"
     ]
    }
   ],
   "source": [
    "oedf.columns = oedf.columns.str.lower()\n",
    "oedf = oedf.applymap(lambda x: x.lower() if type(x) == str else x)\n",
    "oedf = oedf.rename(columns={\"it student\": \"It student\"})\n",
    "oedf['education level'] = oedf['education level'].replace('college', 'university')\n",
    "for i in oedf.columns:\n",
    "    print(i, \":\", oedf[i].unique().tolist())"
   ]
  },
  {
   "cell_type": "code",
   "execution_count": 125,
   "id": "9af072f4",
   "metadata": {},
   "outputs": [
    {
     "data": {
      "text/html": [
       "<div>\n",
       "<style scoped>\n",
       "    .dataframe tbody tr th:only-of-type {\n",
       "        vertical-align: middle;\n",
       "    }\n",
       "\n",
       "    .dataframe tbody tr th {\n",
       "        vertical-align: top;\n",
       "    }\n",
       "\n",
       "    .dataframe thead th {\n",
       "        text-align: right;\n",
       "    }\n",
       "</style>\n",
       "<table border=\"1\" class=\"dataframe\">\n",
       "  <thead>\n",
       "    <tr style=\"text-align: right;\">\n",
       "      <th></th>\n",
       "      <th>gender</th>\n",
       "      <th>age</th>\n",
       "      <th>education level</th>\n",
       "      <th>institution type</th>\n",
       "      <th>It student</th>\n",
       "      <th>location</th>\n",
       "      <th>load-shedding</th>\n",
       "      <th>financial condition</th>\n",
       "      <th>internet type</th>\n",
       "      <th>network type</th>\n",
       "      <th>class duration</th>\n",
       "      <th>self lms</th>\n",
       "      <th>device</th>\n",
       "      <th>adaptivity level</th>\n",
       "    </tr>\n",
       "  </thead>\n",
       "  <tbody>\n",
       "    <tr>\n",
       "      <th>0</th>\n",
       "      <td>boy</td>\n",
       "      <td>21-25</td>\n",
       "      <td>university</td>\n",
       "      <td>non government</td>\n",
       "      <td>no</td>\n",
       "      <td>yes</td>\n",
       "      <td>low</td>\n",
       "      <td>mid</td>\n",
       "      <td>wifi</td>\n",
       "      <td>4g</td>\n",
       "      <td>3-6</td>\n",
       "      <td>no</td>\n",
       "      <td>tab</td>\n",
       "      <td>moderate</td>\n",
       "    </tr>\n",
       "    <tr>\n",
       "      <th>1</th>\n",
       "      <td>girl</td>\n",
       "      <td>21-25</td>\n",
       "      <td>university</td>\n",
       "      <td>non government</td>\n",
       "      <td>no</td>\n",
       "      <td>yes</td>\n",
       "      <td>high</td>\n",
       "      <td>mid</td>\n",
       "      <td>mobile data</td>\n",
       "      <td>4g</td>\n",
       "      <td>1-3</td>\n",
       "      <td>yes</td>\n",
       "      <td>mobile</td>\n",
       "      <td>moderate</td>\n",
       "    </tr>\n",
       "    <tr>\n",
       "      <th>2</th>\n",
       "      <td>girl</td>\n",
       "      <td>16-20</td>\n",
       "      <td>university</td>\n",
       "      <td>government</td>\n",
       "      <td>no</td>\n",
       "      <td>yes</td>\n",
       "      <td>low</td>\n",
       "      <td>mid</td>\n",
       "      <td>wifi</td>\n",
       "      <td>4g</td>\n",
       "      <td>1-3</td>\n",
       "      <td>no</td>\n",
       "      <td>mobile</td>\n",
       "      <td>moderate</td>\n",
       "    </tr>\n",
       "    <tr>\n",
       "      <th>3</th>\n",
       "      <td>girl</td>\n",
       "      <td>11-15</td>\n",
       "      <td>school</td>\n",
       "      <td>non government</td>\n",
       "      <td>no</td>\n",
       "      <td>yes</td>\n",
       "      <td>low</td>\n",
       "      <td>mid</td>\n",
       "      <td>mobile data</td>\n",
       "      <td>4g</td>\n",
       "      <td>1-3</td>\n",
       "      <td>no</td>\n",
       "      <td>mobile</td>\n",
       "      <td>moderate</td>\n",
       "    </tr>\n",
       "    <tr>\n",
       "      <th>4</th>\n",
       "      <td>girl</td>\n",
       "      <td>16-20</td>\n",
       "      <td>school</td>\n",
       "      <td>non government</td>\n",
       "      <td>no</td>\n",
       "      <td>yes</td>\n",
       "      <td>low</td>\n",
       "      <td>poor</td>\n",
       "      <td>mobile data</td>\n",
       "      <td>3g</td>\n",
       "      <td>0</td>\n",
       "      <td>no</td>\n",
       "      <td>mobile</td>\n",
       "      <td>low</td>\n",
       "    </tr>\n",
       "    <tr>\n",
       "      <th>...</th>\n",
       "      <td>...</td>\n",
       "      <td>...</td>\n",
       "      <td>...</td>\n",
       "      <td>...</td>\n",
       "      <td>...</td>\n",
       "      <td>...</td>\n",
       "      <td>...</td>\n",
       "      <td>...</td>\n",
       "      <td>...</td>\n",
       "      <td>...</td>\n",
       "      <td>...</td>\n",
       "      <td>...</td>\n",
       "      <td>...</td>\n",
       "      <td>...</td>\n",
       "    </tr>\n",
       "    <tr>\n",
       "      <th>1200</th>\n",
       "      <td>girl</td>\n",
       "      <td>16-20</td>\n",
       "      <td>university</td>\n",
       "      <td>non government</td>\n",
       "      <td>no</td>\n",
       "      <td>yes</td>\n",
       "      <td>low</td>\n",
       "      <td>mid</td>\n",
       "      <td>wifi</td>\n",
       "      <td>4g</td>\n",
       "      <td>1-3</td>\n",
       "      <td>no</td>\n",
       "      <td>mobile</td>\n",
       "      <td>low</td>\n",
       "    </tr>\n",
       "    <tr>\n",
       "      <th>1201</th>\n",
       "      <td>girl</td>\n",
       "      <td>16-20</td>\n",
       "      <td>university</td>\n",
       "      <td>non government</td>\n",
       "      <td>no</td>\n",
       "      <td>no</td>\n",
       "      <td>high</td>\n",
       "      <td>mid</td>\n",
       "      <td>wifi</td>\n",
       "      <td>4g</td>\n",
       "      <td>3-6</td>\n",
       "      <td>no</td>\n",
       "      <td>mobile</td>\n",
       "      <td>moderate</td>\n",
       "    </tr>\n",
       "    <tr>\n",
       "      <th>1202</th>\n",
       "      <td>boy</td>\n",
       "      <td>11-15</td>\n",
       "      <td>school</td>\n",
       "      <td>non government</td>\n",
       "      <td>no</td>\n",
       "      <td>yes</td>\n",
       "      <td>low</td>\n",
       "      <td>mid</td>\n",
       "      <td>mobile data</td>\n",
       "      <td>3g</td>\n",
       "      <td>1-3</td>\n",
       "      <td>no</td>\n",
       "      <td>mobile</td>\n",
       "      <td>moderate</td>\n",
       "    </tr>\n",
       "    <tr>\n",
       "      <th>1203</th>\n",
       "      <td>girl</td>\n",
       "      <td>16-20</td>\n",
       "      <td>university</td>\n",
       "      <td>non government</td>\n",
       "      <td>no</td>\n",
       "      <td>no</td>\n",
       "      <td>low</td>\n",
       "      <td>mid</td>\n",
       "      <td>wifi</td>\n",
       "      <td>4g</td>\n",
       "      <td>1-3</td>\n",
       "      <td>no</td>\n",
       "      <td>mobile</td>\n",
       "      <td>low</td>\n",
       "    </tr>\n",
       "    <tr>\n",
       "      <th>1204</th>\n",
       "      <td>girl</td>\n",
       "      <td>11-15</td>\n",
       "      <td>school</td>\n",
       "      <td>non government</td>\n",
       "      <td>no</td>\n",
       "      <td>yes</td>\n",
       "      <td>low</td>\n",
       "      <td>poor</td>\n",
       "      <td>mobile data</td>\n",
       "      <td>3g</td>\n",
       "      <td>1-3</td>\n",
       "      <td>no</td>\n",
       "      <td>mobile</td>\n",
       "      <td>moderate</td>\n",
       "    </tr>\n",
       "  </tbody>\n",
       "</table>\n",
       "<p>1205 rows × 14 columns</p>\n",
       "</div>"
      ],
      "text/plain": [
       "     gender    age education level institution type It student location  \\\n",
       "0       boy  21-25      university   non government         no      yes   \n",
       "1      girl  21-25      university   non government         no      yes   \n",
       "2      girl  16-20      university       government         no      yes   \n",
       "3      girl  11-15          school   non government         no      yes   \n",
       "4      girl  16-20          school   non government         no      yes   \n",
       "...     ...    ...             ...              ...        ...      ...   \n",
       "1200   girl  16-20      university   non government         no      yes   \n",
       "1201   girl  16-20      university   non government         no       no   \n",
       "1202    boy  11-15          school   non government         no      yes   \n",
       "1203   girl  16-20      university   non government         no       no   \n",
       "1204   girl  11-15          school   non government         no      yes   \n",
       "\n",
       "     load-shedding financial condition internet type network type  \\\n",
       "0              low                 mid          wifi           4g   \n",
       "1             high                 mid   mobile data           4g   \n",
       "2              low                 mid          wifi           4g   \n",
       "3              low                 mid   mobile data           4g   \n",
       "4              low                poor   mobile data           3g   \n",
       "...            ...                 ...           ...          ...   \n",
       "1200           low                 mid          wifi           4g   \n",
       "1201          high                 mid          wifi           4g   \n",
       "1202           low                 mid   mobile data           3g   \n",
       "1203           low                 mid          wifi           4g   \n",
       "1204           low                poor   mobile data           3g   \n",
       "\n",
       "     class duration self lms  device adaptivity level  \n",
       "0               3-6       no     tab         moderate  \n",
       "1               1-3      yes  mobile         moderate  \n",
       "2               1-3       no  mobile         moderate  \n",
       "3               1-3       no  mobile         moderate  \n",
       "4                 0       no  mobile              low  \n",
       "...             ...      ...     ...              ...  \n",
       "1200            1-3       no  mobile              low  \n",
       "1201            3-6       no  mobile         moderate  \n",
       "1202            1-3       no  mobile         moderate  \n",
       "1203            1-3       no  mobile              low  \n",
       "1204            1-3       no  mobile         moderate  \n",
       "\n",
       "[1205 rows x 14 columns]"
      ]
     },
     "execution_count": 125,
     "metadata": {},
     "output_type": "execute_result"
    }
   ],
   "source": [
    "oedf\n"
   ]
  },
  {
   "cell_type": "code",
   "execution_count": 132,
   "id": "5103750d",
   "metadata": {},
   "outputs": [
    {
     "data": {
      "text/plain": [
       "Index(['high', 'low', 'moderate', 'All'], dtype='object', name='adaptivity level')"
      ]
     },
     "execution_count": 132,
     "metadata": {},
     "output_type": "execute_result"
    }
   ],
   "source": [
    "import seaborn as sns\n",
    "\n",
    "cross_tab = pd.crosstab(oedf['device'], oedf['adaptivity level'], margins=True)\n",
    "\n",
    "cross_tab.columns\n",
    "\n",
    "#sns.heatmap(cross_tab, cmap='Blues', annot=True, fmt='d')\n"
   ]
  },
  {
   "cell_type": "code",
   "execution_count": 120,
   "id": "956812de",
   "metadata": {},
   "outputs": [
    {
     "data": {
      "image/png": "[encoded data removed]",
      "text/plain": [
       "<Figure size 432x288 with 2 Axes>"
      ]
     },
     "metadata": {
      "needs_background": "light"
     },
     "output_type": "display_data"
    }
   ],
   "source": [
    "######by chatgpt\n",
    "import matplotlib.pyplot as plt\n",
    "\n",
    "\n",
    "# 创建交叉表\n",
    "cross_tab = pd.crosstab(oedf['device'], oedf['adaptivity level'])\n",
    "# 创建热力图\n",
    "plt.imshow(cross_tab, cmap='Blues')\n",
    "# 设置坐标轴标签\n",
    "plt.xticks(range(len(cross_tab.columns)), cross_tab.columns, rotation=90)\n",
    "plt.yticks(range(len(cross_tab.index)), cross_tab.index)\n",
    "# 添加颜色条\n",
    "plt.colorbar()\n",
    "# 添加标题\n",
    "plt.title('device and adaptivity level')\n",
    "# 显示图形\n",
    "plt.show()\n"
   ]
  },
  {
   "cell_type": "code",
   "execution_count": 105,
   "id": "e8f01627",
   "metadata": {},
   "outputs": [
    {
     "data": {
      "image/png": "[encoded data removed]",
      "text/plain": [
       "<Figure size 432x288 with 2 Axes>"
      ]
     },
     "metadata": {
      "needs_background": "light"
     },
     "output_type": "display_data"
    }
   ],
   "source": [
    "######by chatgpt\n",
    "import matplotlib.pyplot as plt\n",
    "\n",
    "# 创建交叉表\n",
    "cross_tab = pd.crosstab(oedf['age'], oedf['adaptivity level'])\n",
    "# 创建热力图\n",
    "plt.imshow(cross_tab, cmap='Blues')\n",
    "# 设置坐标轴标签\n",
    "plt.xticks(range(len(cross_tab.columns)), cross_tab.columns, rotation=20)\n",
    "plt.yticks(range(len(cross_tab.index)), cross_tab.index)\n",
    "# 添加颜色条\n",
    "plt.colorbar()\n",
    "# 添加标题\n",
    "plt.title('Age and Adaptivity level')\n",
    "# 显示图形\n",
    "plt.show()\n"
   ]
  },
  {
   "cell_type": "code",
   "execution_count": 133,
   "id": "710e767a",
   "metadata": {},
   "outputs": [
    {
     "name": "stdout",
     "output_type": "stream",
     "text": [
      "adaptivity level  high  low  moderate   All\n",
      "It student                                 \n",
      "no                  67  391       443   901\n",
      "yes                 33   89       182   304\n",
      "All                100  480       625  1205\n"
     ]
    },
    {
     "data": {
      "text/plain": [
       "<AxesSubplot:xlabel='adaptivity level', ylabel='It student'>"
      ]
     },
     "execution_count": 133,
     "metadata": {},
     "output_type": "execute_result"
    },
    {
     "data": {
      "image/png": "[encoded data removed]",
      "text/plain": [
       "<Figure size 432x288 with 2 Axes>"
      ]
     },
     "metadata": {
      "needs_background": "light"
     },
     "output_type": "display_data"
    }
   ],
   "source": [
    "import pandas as pd\n",
    "import seaborn as sns\n",
    "\n",
    "\n",
    "# 创建交叉表\n",
    "cross_tab = pd.crosstab(oedf['It student'], oedf['adaptivity level'], margins=True)\n",
    "\n",
    "# 显示交叉表\n",
    "print(cross_tab)\n",
    "\n",
    "# 使用热力图可视化交叉表\n",
    "sns.heatmap(cross_tab, cmap='Blues', annot=True, fmt='d')\n",
    "\n",
    "\n"
   ]
  },
  {
   "cell_type": "markdown",
   "id": "c1332217",
   "metadata": {},
   "source": [
    "## 問題\n",
    "1.\n",
    "\n",
    "2.\n",
    "\n",
    "3.\n"
   ]
  },
  {
   "cell_type": "code",
   "execution_count": 117,
   "id": "d76f3acb",
   "metadata": {},
   "outputs": [
    {
     "ename": "SyntaxError",
     "evalue": "invalid syntax (3718078587.py, line 8)",
     "output_type": "error",
     "traceback": [
      "\u001b[0;36m  Input \u001b[0;32mIn [117]\u001b[0;36m\u001b[0m\n\u001b[0;31m    pivot\u001b[0m\n\u001b[0m    ^\u001b[0m\n\u001b[0;31mSyntaxError\u001b[0m\u001b[0;31m:\u001b[0m invalid syntax\n"
     ]
    }
   ],
   "source": []
  },
  {
   "cell_type": "code",
   "execution_count": 114,
   "id": "e1895f4e",
   "metadata": {},
   "outputs": [
    {
     "data": {
      "image/png": "[encoded data removed]",
      "text/plain": [
       "<Figure size 432x288 with 2 Axes>"
      ]
     },
     "metadata": {
      "needs_background": "light"
     },
     "output_type": "display_data"
    }
   ],
   "source": []
  },
  {
   "cell_type": "code",
   "execution_count": 119,
   "id": "0618072d",
   "metadata": {},
   "outputs": [
    {
     "data": {
      "text/plain": [
       "<AxesSubplot:>"
      ]
     },
     "execution_count": 119,
     "metadata": {},
     "output_type": "execute_result"
    },
    {
     "data": {
      "image/png": "[encoded data removed]",
      "text/plain": [
       "<Figure size 432x288 with 1 Axes>"
      ]
     },
     "metadata": {
      "needs_background": "light"
     },
     "output_type": "display_data"
    }
   ],
   "source": [
    "\n",
    "\n",
    "# 繪製直方圖\n",
    "oedf['education level'].hist()\n",
    "\n",
    "\n",
    "\n",
    "\n",
    "\n"
   ]
  },
  {
   "cell_type": "code",
   "execution_count": null,
   "id": "cd159435",
   "metadata": {},
   "outputs": [],
   "source": []
  },
  {
   "cell_type": "code",
   "execution_count": null,
   "id": "d0c21d62",
   "metadata": {},
   "outputs": [],
   "source": []
  },
  {
   "cell_type": "code",
   "execution_count": null,
   "id": "4e9e520e",
   "metadata": {},
   "outputs": [],
   "source": []
  },
  {
   "cell_type": "code",
   "execution_count": null,
   "id": "34233aaf",
   "metadata": {},
   "outputs": [],
   "source": []
  },
  {
   "cell_type": "code",
   "execution_count": null,
   "id": "b5be36a2",
   "metadata": {},
   "outputs": [],
   "source": []
  },
  {
   "cell_type": "code",
   "execution_count": null,
   "id": "ddd7c4a1",
   "metadata": {},
   "outputs": [],
   "source": []
  },
  {
   "cell_type": "code",
   "execution_count": null,
   "id": "fca28255",
   "metadata": {},
   "outputs": [],
   "source": []
  },
  {
   "cell_type": "code",
   "execution_count": null,
   "id": "e27cb295",
   "metadata": {},
   "outputs": [],
   "source": []
  },
  {
   "cell_type": "code",
   "execution_count": null,
   "id": "8bc3f562",
   "metadata": {},
   "outputs": [],
   "source": []
  },
  {
   "cell_type": "code",
   "execution_count": null,
   "id": "6e4beeb1",
   "metadata": {},
   "outputs": [],
   "source": []
  },
  {
   "cell_type": "code",
   "execution_count": null,
   "id": "2d2587ef",
   "metadata": {},
   "outputs": [],
   "source": []
  },
  {
   "cell_type": "code",
   "execution_count": null,
   "id": "23b1b6b4",
   "metadata": {},
   "outputs": [],
   "source": []
  }
 ],
 "metadata": {
  "kernelspec": {
   "display_name": "Python 3 (ipykernel)",
   "language": "python",
   "name": "python3"
  },
  "language_info": {
   "codemirror_mode": {
    "name": "ipython",
    "version": 3
   },
   "file_extension": ".py",
   "mimetype": "text/x-python",
   "name": "python",
   "nbconvert_exporter": "python",
   "pygments_lexer": "ipython3",
   "version": "3.9.12"
  }
 },
 "nbformat": 4,
 "nbformat_minor": 5
}
