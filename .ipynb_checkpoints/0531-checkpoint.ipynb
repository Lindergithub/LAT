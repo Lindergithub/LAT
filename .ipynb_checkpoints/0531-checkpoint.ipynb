{
 "cells": [
  {
   "cell_type": "code",
   "execution_count": 61,
   "id": "38d0f642",
   "metadata": {},
   "outputs": [],
   "source": [
    "class human():\n",
    "    #建構子：設計圖、基本資訊、初始化\n",
    "    #方法：自定義方法、邏輯、動作\n",
    "    #預設參數\n",
    "    def __init__(self, height, weight, IQ):\n",
    "        self.height = height\n",
    "        self.weight = weight\n",
    "        self.IQ = IQ\n",
    "\n",
    "    def eat(self):\n",
    "        self.weight += 1\n",
    "    def volleyball(self):\n",
    "        self.height += 1\n",
    "    def study(self):\n",
    "        self.IQ += 10\n"
   ]
  },
  {
   "cell_type": "code",
   "execution_count": 60,
   "id": "994c089c",
   "metadata": {},
   "outputs": [
    {
     "name": "stdout",
     "output_type": "stream",
     "text": [
      "輸入姓名：ruht\n",
      "依序輸入身高、體重、智商（用空白間隔開）：162 58 100\n",
      "今天打完排球吃完午餐溫習功課後，我的身高、體重、智商變成： 163 59 110\n"
     ]
    }
   ],
   "source": [
    "name = input(\"輸入姓名：\")\n",
    "a, b ,c =input(\"依序輸入身高、體重、智商（用空白間隔開）：\").split()\n",
    "\n",
    "a=int(a)\n",
    "b=int(b)\n",
    "c=int(c)\n",
    "name = human(a, b, c)\n",
    "name.eat()\n",
    "name.study()\n",
    "name.volleyball()\n",
    "print(\"今天打完排球吃完午餐溫習功課後，我的身高、體重、智商變成：\", name.height ,name.weight, name.IQ)"
   ]
  },
  {
   "cell_type": "code",
   "execution_count": null,
   "id": "31ddcd2d",
   "metadata": {},
   "outputs": [],
   "source": [
    "\"\"\"\n",
    "# Definition for a Node.\n",
    "class Node(object):\n",
    "    def __init__(self, val=None, children=None):\n",
    "        self.val = val\n",
    "        self.children = children\n",
    "\"\"\"\n",
    "#input:[1,null,3,2,4,null,5,6]\n",
    "#output:[1,3,5,6,2,4]\n",
    "#分成兩步驟：畫圖、解讀\n",
    "\n",
    "class Solution(object):\n",
    "    def preorder(self, root):\n",
    "        \"\"\"\n",
    "        :type root: Node\n",
    "        :rtype: List[int]\n",
    "        \"\"\"\n",
    "\n",
    "        if not root:\n",
    "            return []\n",
    "        result = [root.val] # 將根節點的值加入結果列表\n",
    "        for child in root.children: # 遍歷每個子節點\n",
    "            result += self.preorder(child) # 遞歸調用前序遍歷函數，將子節點的值加入結果列表\n",
    "        return result\n",
    "        \"\"\"\n",
    "        :type root: Node\n",
    "        :rtype: List[int]\n",
    "        \"\"\""
   ]
  },
  {
   "cell_type": "code",
   "execution_count": null,
   "id": "8d83bcd2",
   "metadata": {},
   "outputs": [],
   "source": []
  },
  {
   "cell_type": "code",
   "execution_count": null,
   "id": "14bba612",
   "metadata": {},
   "outputs": [],
   "source": []
  }
 ],
 "metadata": {
  "kernelspec": {
   "display_name": "Python 3 (ipykernel)",
   "language": "python",
   "name": "python3"
  },
  "language_info": {
   "codemirror_mode": {
    "name": "ipython",
    "version": 3
   },
   "file_extension": ".py",
   "mimetype": "text/x-python",
   "name": "python",
   "nbconvert_exporter": "python",
   "pygments_lexer": "ipython3",
   "version": "3.9.12"
  }
 },
 "nbformat": 4,
 "nbformat_minor": 5
}
