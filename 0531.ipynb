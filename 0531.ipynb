{
 "cells": [
  {
   "cell_type": "code",
   "execution_count": 61,
   "id": "38d0f642",
   "metadata": {},
   "outputs": [],
   "source": [
    "class human():\n",
    "    #建構子：設計圖、基本資訊、初始化\n",
    "    #方法：自定義方法、邏輯、動作\n",
    "    #預設參數\n",
    "    def __init__(self, height, weight, IQ):\n",
    "        self.height = height\n",
    "        self.weight = weight\n",
    "        self.IQ = IQ\n",
    "\n",
    "    def eat(self):\n",
    "        self.weight += 1\n",
    "    def volleyball(self):\n",
    "        self.height += 1\n",
    "    def study(self):\n",
    "        self.IQ += 10\n"
   ]
  },
  {
   "cell_type": "code",
   "execution_count": 60,
   "id": "001dff8b",
   "metadata": {},
   "outputs": [
    {
     "name": "stdout",
     "output_type": "stream",
     "text": [
      "輸入姓名：ruht\n",
      "依序輸入身高、體重、智商（用空白間隔開）：162 58 100\n",
      "今天打完排球吃完午餐溫習功課後，我的身高、體重、智商變成： 163 59 110\n"
     ]
    }
   ],
   "source": [
    "name = input(\"輸入姓名：\")\n",
    "a, b ,c =input(\"依序輸入身高、體重、智商（用空白間隔開）：\").split()\n",
    "\n",
    "a=int(a)\n",
    "b=int(b)\n",
    "c=int(c)\n",
    "name = human(a, b, c)\n",
    "name.eat()\n",
    "name.study()\n",
    "name.volleyball()\n",
    "print(\"今天打完排球吃完午餐溫習功課後，我的身高、體重、智商變成：\", name.height ,name.weight, name.IQ)"
   ]
  },
  {
   "cell_type": "code",
   "execution_count": null,
   "id": "9e9aef01",
   "metadata": {},
   "outputs": [],
   "source": [
    "\"\"\"\n",
    "# Definition for a Node.\n",
    "class Node(object):\n",
    "    def __init__(self, val=None, children=None):\n",
    "        self.val = val\n",
    "        self.children = children\n",
    "\"\"\"\n",
    "#input:[1,null,3,2,4,null,5,6]\n",
    "#output:[1,3,5,6,2,4]\n",
    "#分成兩步驟：畫圖、解讀\n",
    "\n",
    "class Solution(object):\n",
    "    def preorder(self, root):\n",
    "        \"\"\"\n",
    "        :type root: Node\n",
    "        :rtype: List[int]\n",
    "        \"\"\"\n",
    "\n",
    "        if not root:\n",
    "            return []\n",
    "        result = [root.val] # 將根節點的值加入結果列表\n",
    "        for child in root.children: # 遍歷每個子節點\n",
    "            result += self.preorder(child) # 遞歸調用前序遍歷函數，將子節點的值加入結果列表\n",
    "        return result\n",
    "        \"\"\"\n",
    "        :type root: Node\n",
    "        :rtype: List[int]\n",
    "        \"\"\""
   ]
  },
  {
   "cell_type": "code",
   "execution_count": 79,
   "id": "bdf034ba",
   "metadata": {},
   "outputs": [
    {
     "data": {
      "text/plain": [
       "4"
      ]
     },
     "execution_count": 79,
     "metadata": {},
     "output_type": "execute_result"
    }
   ],
   "source": [
    "class point:\n",
    "    def __init__(self,x=0,y=None):\n",
    "        self.x=x\n",
    "        self.y=y\n",
    "p.x\n"
   ]
  },
  {
   "cell_type": "code",
   "execution_count": 85,
   "id": "e7a392e5",
   "metadata": {},
   "outputs": [
    {
     "ename": "AttributeError",
     "evalue": "'list' object has no attribute 'root'",
     "output_type": "error",
     "traceback": [
      "\u001b[0;31m---------------------------------------------------------------------------\u001b[0m",
      "\u001b[0;31mAttributeError\u001b[0m                            Traceback (most recent call last)",
      "Input \u001b[0;32mIn [85]\u001b[0m, in \u001b[0;36m<cell line: 22>\u001b[0;34m()\u001b[0m\n\u001b[1;32m     19\u001b[0m             result \u001b[38;5;241m+\u001b[39m\u001b[38;5;241m=\u001b[39m \u001b[38;5;28mself\u001b[39m\u001b[38;5;241m.\u001b[39mpreorder(child) \u001b[38;5;66;03m# 遞歸調用前序遍歷函數，將子節點的值加入結果列表\u001b[39;00m\n\u001b[1;32m     20\u001b[0m         \u001b[38;5;28;01mreturn\u001b[39;00m result\n\u001b[0;32m---> 22\u001b[0m \u001b[43mt\u001b[49m\u001b[38;5;241;43m.\u001b[39;49m\u001b[43mroot\u001b[49m()\n",
      "\u001b[0;31mAttributeError\u001b[0m: 'list' object has no attribute 'root'"
     ]
    }
   ],
   "source": [
    "# Definition for a Node.\n",
    "class Node(object):\n",
    "    def __init__(self, val=None, children=None):\n",
    "        self.val = val\n",
    "        self.children = children\n",
    "\n",
    "\n",
    "class Solution(object):\n",
    "    def preorder(self, root):\n",
    "        \"\"\"\n",
    "        :type root: Node\n",
    "        :rtype: List[int]\n",
    "        \"\"\"\n",
    "\n",
    "        if not root:\n",
    "            return []\n",
    "        result = [root.val] # 將根節點的值加入結果列表\n",
    "        for child in root.children: # 遍歷每個子節點\n",
    "            result += self.preorder(child) # 遞歸調用前序遍歷函數，將子節點的值加入結果列表\n",
    "        return result\n",
    "\n"
   ]
  },
  {
   "cell_type": "code",
   "execution_count": null,
   "id": "aa4d8063",
   "metadata": {},
   "outputs": [],
   "source": [
    "class Solution(object):\n",
    "    def nearestExit(self, maze, entrance):\n",
    "        entrance = tuple(entrance)\n",
    "        visited =  set()\n",
    "        n, m = len(maze), len(maze[0])\n",
    "\n",
    "        for i in range(n):\n",
    "            if maze[i][0] == '.':\n",
    "                visited.add((i, 0))\n",
    "            if maze[i][m-1] == '.':\n",
    "                visited.add((i, m-1))\n",
    "        for j in range(m):\n",
    "            if maze[0][j] == '.':\n",
    "                visited.add((0, j))\n",
    "            if maze[n-1][j] == '.':\n",
    "                visited.add((n-1, j))\n",
    "        \n",
    "            if entrance in visited:\n",
    "                visited.remove(entrance)\n",
    "        \n",
    "        \n",
    "        \n",
    "        q = [(entrance, 0)] # start, distance\n",
    "        \n",
    "        \n",
    "        while q:\n",
    "            curr_pos , d = q.pop(0)\n",
    "            \n",
    "            if curr_pos in visited:\n",
    "                return d\n",
    "            \n",
    "            if curr_pos in visited:\n",
    "                continue\n",
    "            \n",
    "            visited.add(curr_pos)\n",
    "            \n",
    "            \n",
    "            for dx, dy in [(0, 1), (0, -1), (1, 0), (-1, 0)]:\n",
    "                nx = dx + curr_pos[0]\n",
    "                ny = dy + curr_pos[1]\n",
    "                \n",
    "                if 0 <= nx < n and 0 <= ny < m and maze[nx][ny] == \".\":\n",
    "                    q.append(((nx, ny), d + 1))\n",
    "            \n",
    "        \n",
    "        return -1\n",
    "\n",
    "        \"\"\"\n",
    "        :type maze: List[List[str]]\n",
    "        :type entrance: List[int]\n",
    "        :rtype: int\n",
    "        \"\"\""
   ]
  },
  {
   "cell_type": "code",
   "execution_count": null,
   "id": "ee1392f8",
   "metadata": {},
   "outputs": [],
   "source": [
    "class Solution(object):\n",
    "    def nearestExit(self, maze, entrance):\n",
    "        \"\"\"\n",
    "            . entrace cant be termed as exit cell\n",
    "        \"\"\"\n",
    "        \n",
    "        seen = set()\n",
    "        exits = set()\n",
    "        R, C = len(maze), len(maze[0])\n",
    "        entrance = tuple(entrance)\n",
    "        \n",
    "        for r in range(R):\n",
    "            if maze[r][0] == \".\":\n",
    "                exits.add((r, 0))\n",
    "            if maze[r][C-1] == \".\":\n",
    "                exits.add((r, C-1))\n",
    "        \n",
    "        for c in range(C):\n",
    "            if maze[0][c] == \".\":\n",
    "                exits.add((0, c))\n",
    "            if maze[R-1][c] == \".\":\n",
    "                exits.add((R-1, c))\n",
    "        \n",
    "        if entrance in exits:\n",
    "            exits.remove(entrance)\n",
    "        \n",
    "        print(exits)\n",
    "        \n",
    "        q = [(entrance, 0)] # start, distance\n",
    "        \n",
    "        while q:\n",
    "            curr_pos , d = q.pop(0)\n",
    "            #print(curr_pos , d)\n",
    "            if curr_pos in exits:\n",
    "                return d\n",
    "            \n",
    "            if curr_pos in seen:\n",
    "                continue\n",
    "            \n",
    "            seen.add(curr_pos)\n",
    "            \n",
    "            print(curr_pos , d)\n",
    "            for dx, dy in [(0, 1), (0, -1), (1, 0), (-1, 0)]:\n",
    "                nx = dx + curr_pos[0]\n",
    "                ny = dy + curr_pos[1]\n",
    "                \n",
    "                if 0 <= nx < R and 0 <= ny < C and maze[nx][ny] == \".\":\n",
    "                    q.append(((nx, ny), d + 1))\n",
    "            \n",
    "        \n",
    "        return -1\n",
    "        "
   ]
  }
 ],
 "metadata": {
  "kernelspec": {
   "display_name": "Python 3 (ipykernel)",
   "language": "python",
   "name": "python3"
  },
  "language_info": {
   "codemirror_mode": {
    "name": "ipython",
    "version": 3
   },
   "file_extension": ".py",
   "mimetype": "text/x-python",
   "name": "python",
   "nbconvert_exporter": "python",
   "pygments_lexer": "ipython3",
   "version": "3.9.12"
  }
 },
 "nbformat": 4,
 "nbformat_minor": 5
}
