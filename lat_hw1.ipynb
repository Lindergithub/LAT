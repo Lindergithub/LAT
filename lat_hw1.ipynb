{
 "cells": [
  {
   "cell_type": "markdown",
   "id": "7b3dbb31",
   "metadata": {},
   "source": [
    "# 111-2 LAT HW1 : 高級中等學校體育班特色招生甄選入學名額"
   ]
  },
  {
   "cell_type": "code",
   "execution_count": 7,
   "id": "6a062a4c",
   "metadata": {},
   "outputs": [
    {
     "data": {
      "text/html": [
       "<div>\n",
       "<style scoped>\n",
       "    .dataframe tbody tr th:only-of-type {\n",
       "        vertical-align: middle;\n",
       "    }\n",
       "\n",
       "    .dataframe tbody tr th {\n",
       "        vertical-align: top;\n",
       "    }\n",
       "\n",
       "    .dataframe thead th {\n",
       "        text-align: right;\n",
       "    }\n",
       "</style>\n",
       "<table border=\"1\" class=\"dataframe\">\n",
       "  <thead>\n",
       "    <tr style=\"text-align: right;\">\n",
       "      <th></th>\n",
       "      <th>學年度</th>\n",
       "      <th>縣市別</th>\n",
       "      <th>學校名稱</th>\n",
       "      <th>運動種類</th>\n",
       "      <th>男性名額</th>\n",
       "      <th>女性名額</th>\n",
       "      <th>不分性別名額</th>\n",
       "    </tr>\n",
       "  </thead>\n",
       "  <tbody>\n",
       "    <tr>\n",
       "      <th>0</th>\n",
       "      <td>103</td>\n",
       "      <td>高雄市</td>\n",
       "      <td>高雄市立瑞祥高中</td>\n",
       "      <td>排球</td>\n",
       "      <td>14</td>\n",
       "      <td>0</td>\n",
       "      <td>-</td>\n",
       "    </tr>\n",
       "    <tr>\n",
       "      <th>1</th>\n",
       "      <td>103</td>\n",
       "      <td>高雄市</td>\n",
       "      <td>高雄市立瑞祥高中</td>\n",
       "      <td>體操</td>\n",
       "      <td>5</td>\n",
       "      <td>5</td>\n",
       "      <td>-</td>\n",
       "    </tr>\n",
       "    <tr>\n",
       "      <th>2</th>\n",
       "      <td>103</td>\n",
       "      <td>高雄市</td>\n",
       "      <td>高雄市立小港高中</td>\n",
       "      <td>空手道</td>\n",
       "      <td>8</td>\n",
       "      <td>0</td>\n",
       "      <td>-</td>\n",
       "    </tr>\n",
       "    <tr>\n",
       "      <th>3</th>\n",
       "      <td>103</td>\n",
       "      <td>高雄市</td>\n",
       "      <td>高雄市立小港高中</td>\n",
       "      <td>籃球</td>\n",
       "      <td>0</td>\n",
       "      <td>8</td>\n",
       "      <td>-</td>\n",
       "    </tr>\n",
       "    <tr>\n",
       "      <th>4</th>\n",
       "      <td>103</td>\n",
       "      <td>高雄市</td>\n",
       "      <td>高雄市立小港高中</td>\n",
       "      <td>撞球</td>\n",
       "      <td>8</td>\n",
       "      <td>0</td>\n",
       "      <td>-</td>\n",
       "    </tr>\n",
       "  </tbody>\n",
       "</table>\n",
       "</div>"
      ],
      "text/plain": [
       "   學年度  縣市別      學校名稱 運動種類  男性名額  女性名額 不分性別名額\n",
       "0  103  高雄市  高雄市立瑞祥高中   排球    14     0      -\n",
       "1  103  高雄市  高雄市立瑞祥高中   體操     5     5      -\n",
       "2  103  高雄市  高雄市立小港高中  空手道     8     0      -\n",
       "3  103  高雄市  高雄市立小港高中   籃球     0     8      -\n",
       "4  103  高雄市  高雄市立小港高中   撞球     8     0      -"
      ]
     },
     "execution_count": 7,
     "metadata": {},
     "output_type": "execute_result"
    }
   ],
   "source": [
    "import pandas as pd\n",
    "df103 = pd.read_csv(\"103.csv\")\n",
    "df108 = pd.read_csv(\"108.csv\")\n",
    "df103.head()"
   ]
  },
  {
   "cell_type": "markdown",
   "id": "d64f4672",
   "metadata": {},
   "source": [
    "## 問題\n",
    "> 1.j \n",
    "> 2.g\n",
    "> 3.t"
   ]
  },
  {
   "cell_type": "code",
   "execution_count": 8,
   "id": "78db6337",
   "metadata": {},
   "outputs": [
    {
     "name": "stdout",
     "output_type": "stream",
     "text": [
      "456 471\n"
     ]
    }
   ],
   "source": [
    "print(len(df108),len(df103))"
   ]
  },
  {
   "cell_type": "code",
   "execution_count": 18,
   "id": "0c796cbf",
   "metadata": {},
   "outputs": [
    {
     "data": {
      "text/plain": [
       "臺北市    85\n",
       "高雄市    80\n",
       "新北市    79\n",
       "臺中市    62\n",
       "桃園市    46\n",
       "彰化縣    22\n",
       "屏東縣    21\n",
       "苗栗縣    11\n",
       "基隆市     9\n",
       "新竹市     8\n",
       "嘉義縣     8\n",
       "臺南市     7\n",
       "雲林縣     7\n",
       "南投縣     4\n",
       "宜蘭縣     4\n",
       "新竹縣     3\n",
       "Name: 縣市別, dtype: int64"
      ]
     },
     "execution_count": 18,
     "metadata": {},
     "output_type": "execute_result"
    }
   ],
   "source": [
    "df108['縣市別'].value_counts()"
   ]
  },
  {
   "cell_type": "code",
   "execution_count": 11,
   "id": "9d475b47",
   "metadata": {},
   "outputs": [
    {
     "name": "stdout",
     "output_type": "stream",
     "text": [
      "田徑        58\n",
      "跆拳道       30\n",
      "羽球        23\n",
      "籃球        23\n",
      "桌球        22\n",
      "柔道        22\n",
      "排球        21\n",
      "游泳        21\n",
      "射箭        18\n",
      "手球        16\n",
      "棒球        16\n",
      "舉重        16\n",
      "拳擊        13\n",
      "足球        13\n",
      "網球        13\n",
      "武術        11\n",
      "角力        11\n",
      "擊劍         9\n",
      "壘球         9\n",
      "空手道        7\n",
      "自由車        6\n",
      "高爾夫球       6\n",
      "拔河         5\n",
      "橄欖球        5\n",
      "劍道         5\n",
      "體操         5\n",
      "西式划船       4\n",
      "軟式網球       4\n",
      "輕艇         4\n",
      "曲棍球        4\n",
      "射擊         4\n",
      "巧固球        3\n",
      "木球         3\n",
      "保齡球        3\n",
      "滑輪溜冰       2\n",
      "競速滑冰       2\n",
      "撞球         2\n",
      "韻律體操       2\n",
      "健力         2\n",
      "划船         2\n",
      "合球         2\n",
      "有氧競技體操     1\n",
      "帆船         1\n",
      "現代五項       1\n",
      "攀岩         1\n",
      "競技拉拉       1\n",
      "跆拳         1\n",
      "圍棋         1\n",
      "花式滑冰       1\n",
      "直排輪        1\n",
      "Name: 運動種類, dtype: int64\n"
     ]
    }
   ],
   "source": [
    "df108['運動種類'].value_counts()"
   ]
  }
 ],
 "metadata": {
  "kernelspec": {
   "display_name": "Python 3 (ipykernel)",
   "language": "python",
   "name": "python3"
  },
  "language_info": {
   "codemirror_mode": {
    "name": "ipython",
    "version": 3
   },
   "file_extension": ".py",
   "mimetype": "text/x-python",
   "name": "python",
   "nbconvert_exporter": "python",
   "pygments_lexer": "ipython3",
   "version": "3.9.12"
  }
 },
 "nbformat": 4,
 "nbformat_minor": 5
}
