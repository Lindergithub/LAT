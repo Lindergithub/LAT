{
 "cells": [
  {
   "cell_type": "code",
   "execution_count": 38,
   "id": "ad2def88",
   "metadata": {},
   "outputs": [
    {
     "name": "stdout",
     "output_type": "stream",
     "text": [
      "原來的df\n",
      "     name  math  chinese\n",
      "0    Mike    80       63\n",
      "1  Sherry    75       90\n",
      "2   Cindy    93       85\n",
      "3    John    86       70\n",
      "============================\n",
      "遞增排序\n",
      "     name  math  chinese\n",
      "1  Sherry    75       90\n",
      "0    Mike    80       63\n",
      "3    John    86       70\n",
      "2   Cindy    93       85\n",
      "============================\n",
      "遞減排序\n",
      "     name  math  chinese\n",
      "2   Cindy    93       85\n",
      "3    John    86       70\n",
      "0    Mike    80       63\n",
      "1  Sherry    75       90\n"
     ]
    }
   ],
   "source": [
    "import pandas as pd\n",
    " \n",
    " \n",
    "grades = {\n",
    "    \"name\": [\"Mike\", \"Sherry\", \"Cindy\", \"John\"],\n",
    "    \"math\": [80, 75, 93, 86],\n",
    "    \"chinese\": [63, 90, 85, 70]\n",
    "}\n",
    " \n",
    "df = pd.DataFrame(grades)\n",
    " \n",
    "print(\"原來的df\")\n",
    "print(df)\n",
    " \n",
    "print(\"============================\")\n",
    " \n",
    "new_df = df.sort_values([\"math\"], ascending=True)\n",
    "print(\"遞增排序\")\n",
    "print(new_df)\n",
    " \n",
    "print(\"============================\")\n",
    " \n",
    "new_df = df.sort_values([\"math\"], ascending=False)\n",
    "print(\"遞減排序\")\n",
    "print(new_df)"
   ]
  },
  {
   "cell_type": "code",
   "execution_count": 39,
   "id": "898af035",
   "metadata": {},
   "outputs": [
    {
     "name": "stdout",
     "output_type": "stream",
     "text": [
      "Index(['age', 'qualified'], dtype='object')\n"
     ]
    }
   ],
   "source": [
    "import pandas as pd\n",
    "\n",
    "data = {\n",
    "  \"name\": [\"Sally\", \"Mary\", \"John\"],\n",
    "  \"age\": [50, 40, 30],\n",
    "  \"qualified\": [True, False, False]\n",
    "}\n",
    "\n",
    "df = pd.DataFrame(data)\n",
    "\n",
    "newdf = df.drop(\"name\", axis='columns')\n",
    "print(newdf.columns)"
   ]
  },
  {
   "cell_type": "code",
   "execution_count": 40,
   "id": "13bacfa1",
   "metadata": {},
   "outputs": [
    {
     "name": "stdout",
     "output_type": "stream",
     "text": [
      "col1, col2, new_column\n"
     ]
    }
   ],
   "source": [
    "import pandas as pd\n",
    "\n",
    "# 創建一個有兩個欄位的資料框\n",
    "df = pd.DataFrame({'col1': [1, 2, 3], 'col2': ['a', 'b', 'c']})\n",
    "\n",
    "# 新增一個名為 'new_column' 的欄位，並指定所有列的值為 [4, 5, 6]\n",
    "df['new_column'] = [4, 5, 6]\n",
    "df.columns.unique().tolist()\n",
    "my_list = df.columns.unique().tolist()\n",
    "my_str = ', '.join(['{}'] * len(my_list)).format(*my_list)\n",
    "print(my_str)\n"
   ]
  },
  {
   "cell_type": "code",
   "execution_count": 41,
   "id": "5586db26",
   "metadata": {},
   "outputs": [
    {
     "name": "stdout",
     "output_type": "stream",
     "text": [
      "   A  B  C\n",
      "0  1  4  x\n",
      "1  2  5  y\n",
      "2  3  6  z\n"
     ]
    }
   ],
   "source": [
    "import pandas as pd\n",
    "\n",
    "# 創建一個 DataFrame\n",
    "df = pd.DataFrame({'A': [1, 2, 3], 'B': [4, 5, 6]})\n",
    "\n",
    "# 定義一個列表\n",
    "new_column = ['x', 'y', 'z']\n",
    "\n",
    "# 將列表賦值給 DataFrame 中的一個欄位\n",
    "df['C'] = new_column\n",
    "\n",
    "print(df)"
   ]
  },
  {
   "cell_type": "code",
   "execution_count": null,
   "id": "4400d800",
   "metadata": {},
   "outputs": [],
   "source": []
  },
  {
   "cell_type": "code",
   "execution_count": 42,
   "id": "b1654fcc",
   "metadata": {},
   "outputs": [
    {
     "name": "stdout",
     "output_type": "stream",
     "text": [
      "   A  B  C     D\n",
      "0  1  4  7   NaN\n",
      "1  2  5  8  10.0\n",
      "2  3  6  9   NaN\n"
     ]
    }
   ],
   "source": [
    "import pandas as pd\n",
    "\n",
    "# 創建一個 DataFrame\n",
    "df = pd.DataFrame({'A': [1, 2, 3], 'B': [4, 5, 6], 'C': [7, 8, 9]})\n",
    "\n",
    "# 在索引為 1 的位置新增一個名為 'D' 的欄位，並將其值設置為 10\n",
    "df.loc[1, 'D'] = 10\n",
    "\n",
    "print(df)"
   ]
  },
  {
   "cell_type": "code",
   "execution_count": null,
   "id": "1ff816e8",
   "metadata": {},
   "outputs": [],
   "source": [
    "######by chatgpt\n",
    "import matplotlib.pyplot as plt\n",
    "cross_tab = pd.crosstab(oedf['device'], oedf['adaptivity level'])\n",
    "plt.imshow(cross_tab, cmap='Blues')\n",
    "plt.xticks(range(len(cross_tab.columns)), cross_tab.columns, rotation=90)\n",
    "plt.yticks(range(len(cross_tab.index)), cross_tab.index)\n",
    "plt.colorbar()\n",
    "plt.title('device and adaptivity level')\n",
    "plt.show()"
   ]
  },
  {
   "cell_type": "code",
   "execution_count": null,
   "id": "d5490eae",
   "metadata": {},
   "outputs": [],
   "source": [
    "######by chatgpt\n",
    "import matplotlib.pyplot as plt\n",
    "\n",
    "# 创建交叉表\n",
    "cross_tab = pd.crosstab(oedf['age'], oedf['adaptivity level'])\n",
    "# 创建热力图\n",
    "plt.imshow(cross_tab, cmap='Blues')\n",
    "# 设置坐标轴标签\n",
    "plt.xticks(range(len(cross_tab.columns)), cross_tab.columns, rotation=20)\n",
    "plt.yticks(range(len(cross_tab.index)), cross_tab.index)\n",
    "# 添加颜色条\n",
    "plt.colorbar()\n",
    "# 添加标题\n",
    "plt.title('Age and Adaptivity level')\n",
    "# 显示图形\n",
    "plt.show()\n"
   ]
  },
  {
   "cell_type": "code",
   "execution_count": null,
   "id": "934a1fdf",
   "metadata": {},
   "outputs": [],
   "source": [
    "import pandas as pd\n",
    "import seaborn as sns\n",
    "\n",
    "\n",
    "# 创建交叉表\n",
    "cross_tab = pd.crosstab(oedf['IT student'], oedf['gender'], margins=True)\n",
    "\n",
    "# 显示交叉表\n",
    "print(cross_tab)\n",
    "\n",
    "# 使用热力图可视化交叉表\n",
    "sns.heatmap(cross_tab, cmap='Blues', annot=True, fmt='d')\n",
    "\n"
   ]
  },
  {
   "cell_type": "code",
   "execution_count": 43,
   "id": "a3263e3f",
   "metadata": {},
   "outputs": [
    {
     "data": {
      "image/png": "[encoded data removed]",
      "text/plain": [
       "<Figure size 432x288 with 1 Axes>"
      ]
     },
     "metadata": {
      "needs_background": "light"
     },
     "output_type": "display_data"
    }
   ],
   "source": [
    "import pandas as pd\n",
    "import matplotlib.pyplot as plt\n",
    "\n",
    "# 創建範例數據\n",
    "data = {\n",
    "    'age': [21, 25, 16, 20, 11, 15, 26, 30, 6, 10, 1, 5],\n",
    "    'education': ['University', 'College', 'School', 'University', 'College', 'School', 'University', 'College', 'School', 'University', 'College', 'School'],\n",
    "    'score': [80, 85, 70, 90, 75, 60, 95, 88, 78, 65, 82, 72],\n",
    "    'gender': ['Boy', 'Girl', 'Boy', 'Girl', 'Boy', 'Girl', 'Boy', 'Girl', 'Boy', 'Girl', 'Boy', 'Girl']\n",
    "}\n",
    "df = pd.DataFrame(data)\n",
    "\n",
    "# 繪製散點圖\n",
    "colors = {'Boy': 'blue', 'Girl': 'pink'}\n",
    "fig, ax = plt.subplots()\n",
    "grouped = df.groupby('gender')\n",
    "for key, group in grouped:\n",
    "    group.plot(ax=ax, kind='scatter', x='age', y='score', label=key, color=colors[key])\n",
    "plt.show()\n"
   ]
  },
  {
   "cell_type": "markdown",
   "id": "5e33ad70",
   "metadata": {},
   "source": [
    "以Kaggle上\"Students Adaptability Level in Online Education\"資料集為例，其男女比例為55:45，在進行IT student 與gender間的分析，要如何減少男女比例不平衡帶來的影響？用python解決\n",
    "可以進行分層抽樣 (stratified sampling)，將樣本分層後在每個層次內進行隨機抽樣，使得樣本更能代表整體族群，進而減少比例不平衡所帶來的影響。\n",
    "\n",
    "以下是一個示範：\n",
    "\n",
    "首先，我們可以使用 pandas 的 crosstab 函數來計算 IT student 與 gender 的交叉表，以瞭解男女比例不平衡的情況。\n",
    "\n",
    "python\n",
    "Copy code\n",
    "import pandas as pd\n",
    "\n",
    "# 讀取資料集\n",
    "df = pd.read_csv('StudentsAdaptability.csv')\n",
    "\n",
    "# 計算 IT student 與 gender 的交叉表\n",
    "crosstab = pd.crosstab(df['IT Student'], df['Gender'])\n",
    "print(crosstab)\n",
    "執行結果：\n",
    "\n",
    "yaml\n",
    "Copy code\n",
    "Gender      Boy  Girl\n",
    "IT Student          \n",
    "No          352   296\n",
    "Yes         199   190\n",
    "可以看出男女比例確實不平衡。\n",
    "\n",
    "接著，我們可以使用 StratifiedShuffleSplit 類別進行分層抽樣。以下是示範程式碼：\n",
    "\n",
    "\n",
    "from sklearn.model_selection import StratifiedShuffleSplit\n",
    "\n",
    "# 將資料分成訓練集和測試集，並進行分層抽樣\n",
    "split = StratifiedShuffleSplit(n_splits=1, test_size=0.2, random_state=42)\n",
    "for train_index, test_index in split.split(df, df['Gender']):\n",
    "    train_set = df.loc[train_index]\n",
    "    test_set = df.loc[test_index]\n",
    "上述程式碼中，我們使用 StratifiedShuffleSplit 類別將資料分成訓練集和測試集，並將 Gender 作為分層依據。這樣可以確保在訓練集和測試集中男女比例的比例相同。\n",
    "\n",
    "最後，我們可以再次計算 IT student 與 gender 的交叉表，以確認分層抽樣的效果。\n",
    "\n",
    "\n",
    "# 計算分層抽樣後的 IT student 與 gender 的交叉表\n",
    "train_crosstab = pd.crosstab(train_set['IT Student'], train_set['Gender'])\n",
    "test_crosstab = pd.crosstab(test_set['IT Student'], test_set['Gender'])\n",
    "\n",
    "print('Training set:')\n",
    "print(train_crosstab)\n",
    "print('Testing set:')\n",
    "print(test_crosstab)\n",
    "執行結果：\n",
    "\n",
    "\n",
    "Training set:\n",
    "Gender      Boy  Girl\n",
    "IT Student          \n",
    "No          281   237\n",
    "Yes         159   152\n",
    "\n",
    "Testing set:\n",
    "Gender      Boy  Girl\n",
    "IT Student          \n",
    "No           71    59\n",
    "Yes          40    38"
   ]
  }
 ],
 "metadata": {
  "kernelspec": {
   "display_name": "Python 3 (ipykernel)",
   "language": "python",
   "name": "python3"
  },
  "language_info": {
   "codemirror_mode": {
    "name": "ipython",
    "version": 3
   },
   "file_extension": ".py",
   "mimetype": "text/x-python",
   "name": "python",
   "nbconvert_exporter": "python",
   "pygments_lexer": "ipython3",
   "version": "3.9.12"
  }
 },
 "nbformat": 4,
 "nbformat_minor": 5
}
