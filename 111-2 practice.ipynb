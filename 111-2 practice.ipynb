{
 "cells": [
  {
   "cell_type": "code",
   "execution_count": 1,
   "id": "09acfb70",
   "metadata": {},
   "outputs": [
    {
     "name": "stdout",
     "output_type": "stream",
     "text": [
      "原來的df\n",
      "     name  math  chinese\n",
      "0    Mike    80       63\n",
      "1  Sherry    75       90\n",
      "2   Cindy    93       85\n",
      "3    John    86       70\n",
      "============================\n",
      "遞增排序\n",
      "     name  math  chinese\n",
      "1  Sherry    75       90\n",
      "0    Mike    80       63\n",
      "3    John    86       70\n",
      "2   Cindy    93       85\n",
      "============================\n",
      "遞減排序\n",
      "     name  math  chinese\n",
      "2   Cindy    93       85\n",
      "3    John    86       70\n",
      "0    Mike    80       63\n",
      "1  Sherry    75       90\n"
     ]
    }
   ],
   "source": [
    "import pandas as pd\n",
    " \n",
    " \n",
    "grades = {\n",
    "    \"name\": [\"Mike\", \"Sherry\", \"Cindy\", \"John\"],\n",
    "    \"math\": [80, 75, 93, 86],\n",
    "    \"chinese\": [63, 90, 85, 70]\n",
    "}\n",
    " \n",
    "df = pd.DataFrame(grades)\n",
    " \n",
    "print(\"原來的df\")\n",
    "print(df)\n",
    " \n",
    "print(\"============================\")\n",
    " \n",
    "new_df = df.sort_values([\"math\"], ascending=True)\n",
    "print(\"遞增排序\")\n",
    "print(new_df)\n",
    " \n",
    "print(\"============================\")\n",
    " \n",
    "new_df = df.sort_values([\"math\"], ascending=False)\n",
    "print(\"遞減排序\")\n",
    "print(new_df)"
   ]
  },
  {
   "cell_type": "code",
   "execution_count": 16,
   "id": "19d90ce6",
   "metadata": {},
   "outputs": [
    {
     "name": "stdout",
     "output_type": "stream",
     "text": [
      "Index(['age', 'qualified'], dtype='object')\n"
     ]
    }
   ],
   "source": [
    "import pandas as pd\n",
    "\n",
    "data = {\n",
    "  \"name\": [\"Sally\", \"Mary\", \"John\"],\n",
    "  \"age\": [50, 40, 30],\n",
    "  \"qualified\": [True, False, False]\n",
    "}\n",
    "\n",
    "df = pd.DataFrame(data)\n",
    "\n",
    "newdf = df.drop(\"name\", axis='columns')\n",
    "print(newdf.columns)"
   ]
  }
 ],
 "metadata": {
  "kernelspec": {
   "display_name": "Python 3 (ipykernel)",
   "language": "python",
   "name": "python3"
  },
  "language_info": {
   "codemirror_mode": {
    "name": "ipython",
    "version": 3
   },
   "file_extension": ".py",
   "mimetype": "text/x-python",
   "name": "python",
   "nbconvert_exporter": "python",
   "pygments_lexer": "ipython3",
   "version": "3.9.12"
  }
 },
 "nbformat": 4,
 "nbformat_minor": 5
}
